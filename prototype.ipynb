{
 "cells": [
  {
   "cell_type": "code",
   "execution_count": 1,
   "metadata": {},
   "outputs": [],
   "source": [
    "import requests\n",
    "import json\n",
    "import logging\n",
    "import time, datetime\n",
    "\n",
    "from enum import Enum"
   ]
  },
  {
   "cell_type": "code",
   "execution_count": 2,
   "metadata": {},
   "outputs": [],
   "source": [
    "Currency = Enum('Currency', 'EUR USD')\n",
    "Cryptomoney = Enum('Cryptomoney', 'BTC ETH')\n",
    "Price = Enum('Price', 'buy sell spot')\n",
    "Environment = Enum('Environment', 'TEST PROD')"
   ]
  },
  {
   "cell_type": "code",
   "execution_count": 3,
   "metadata": {},
   "outputs": [],
   "source": [
    "ENV = Environment.TEST"
   ]
  },
  {
   "cell_type": "code",
   "execution_count": 4,
   "metadata": {},
   "outputs": [],
   "source": [
    "def create_logger(file = 'activity.log', level = logging.DEBUG):\n",
    "    logger = logging.getLogger()\n",
    "    logger.setLevel(level)\n",
    "    # Define logging format\n",
    "    formatter = logging.Formatter('%(asctime)s :: %(levelname)s :: %(message)s')\n",
    "    # Create the file handler\n",
    "    file_handler = logging.handlers.RotatingFileHandler(file, 'a', 1000000, 1)\n",
    "    file_handler.setLevel(logging.DEBUG)\n",
    "    file_handler.setFormatter(formatter)\n",
    "    logger.addHandler(file_handler)\n",
    "    # Create the stream handler\n",
    "    stream_handler = logging.StreamHandler()\n",
    "    stream_handler.setLevel(logging.DEBUG)\n",
    "    logger.addHandler(stream_handler)\n",
    "    return logger\n",
    "    \n",
    "LOGGER = create_logger()"
   ]
  },
  {
   "cell_type": "code",
   "execution_count": 5,
   "metadata": {},
   "outputs": [
    {
     "data": {
      "text/plain": [
       "'2017-12-25 02:01:55'"
      ]
     },
     "execution_count": 5,
     "metadata": {},
     "output_type": "execute_result"
    }
   ],
   "source": [
    "def get_current_timestamp():\n",
    "    return datetime.datetime.fromtimestamp(time.time()).strftime('%Y-%m-%d %H:%M:%S')\n",
    "\n",
    "if ENV == Environment.TEST:\n",
    "    get_current_timestamp()"
   ]
  },
  {
   "cell_type": "code",
   "execution_count": 6,
   "metadata": {},
   "outputs": [
    {
     "name": "stderr",
     "output_type": "stream",
     "text": [
      "Erasing and Reinitializing all CSVs\n"
     ]
    }
   ],
   "source": [
    "def initialize_files(logger=None):\n",
    "    if logger != None:\n",
    "        logger.warning(\"Erasing and Reinitializing all CSVs\")\n",
    "    for cmy in [c.name for c in Cryptomoney]:\n",
    "        for ccy in [c.name for c in Currency]:\n",
    "            f = open('data/{}-{}.csv'.format(cmy, ccy), 'w')\n",
    "            f.write('time, ' + ', '.join([p.name for p in Price]) + '\\n')\n",
    "            f.close()\n",
    "\n",
    "if ENV == Environment.TEST:\n",
    "    initialize_files(LOGGER)"
   ]
  },
  {
   "cell_type": "code",
   "execution_count": 7,
   "metadata": {
    "scrolled": true
   },
   "outputs": [
    {
     "name": "stderr",
     "output_type": "stream",
     "text": [
      "Starting new HTTPS connection (1): api.coinbase.com\n",
      "https://api.coinbase.com:443 \"GET /v2/prices/BTC-EUR/spot HTTP/1.1\" 200 83\n"
     ]
    }
   ],
   "source": [
    "def get_value(cmy = Cryptomoney.BTC, ccy = Currency.EUR, prc = Price.spot):\n",
    "    url = 'https://api.coinbase.com/v2/prices/{}-{}/{}'.format(cmy.name, ccy.name, prc.name)\n",
    "    xhr = requests.get(url)\n",
    "    if xhr.status_code != 200:\n",
    "        raise Exception('XHR status '+str(xhr.status_code)+': '+xhr.reason+' ('+xhr.url+')')\n",
    "    response = xhr.json()\n",
    "    return float(response['data']['amount'])\n",
    "\n",
    "if ENV == Environment.TEST:\n",
    "    get_value()"
   ]
  },
  {
   "cell_type": "code",
   "execution_count": 8,
   "metadata": {},
   "outputs": [
    {
     "name": "stderr",
     "output_type": "stream",
     "text": [
      "Starting new HTTPS connection (1): api.coinbase.com\n",
      "https://api.coinbase.com:443 \"GET /v2/prices/BTC-EUR/buy HTTP/1.1\" 200 None\n",
      "Starting new HTTPS connection (1): api.coinbase.com\n",
      "https://api.coinbase.com:443 \"GET /v2/prices/BTC-EUR/sell HTTP/1.1\" 200 None\n",
      "Starting new HTTPS connection (1): api.coinbase.com\n",
      "https://api.coinbase.com:443 \"GET /v2/prices/BTC-EUR/spot HTTP/1.1\" 200 83\n"
     ]
    }
   ],
   "source": [
    "def get_all_values(cmy = Cryptomoney.BTC, ccy = Currency.EUR):\n",
    "    results = {}\n",
    "    for p in Price:\n",
    "        results[p.name] = get_value(cmy, ccy, p)\n",
    "    return results\n",
    "\n",
    "if ENV == Environment.TEST:\n",
    "    get_all_values()"
   ]
  },
  {
   "cell_type": "code",
   "execution_count": 9,
   "metadata": {},
   "outputs": [
    {
     "name": "stderr",
     "output_type": "stream",
     "text": [
      "2017-12-25 02:02:02 - Getting all values.\n",
      "Starting new HTTPS connection (1): api.coinbase.com\n",
      "https://api.coinbase.com:443 \"GET /v2/prices/BTC-EUR/buy HTTP/1.1\" 200 None\n",
      "Starting new HTTPS connection (1): api.coinbase.com\n",
      "https://api.coinbase.com:443 \"GET /v2/prices/BTC-EUR/sell HTTP/1.1\" 200 None\n",
      "Starting new HTTPS connection (1): api.coinbase.com\n",
      "https://api.coinbase.com:443 \"GET /v2/prices/BTC-EUR/spot HTTP/1.1\" 200 83\n",
      "2017-12-25 02:02:03 - Getting all values.\n",
      "Starting new HTTPS connection (1): api.coinbase.com\n",
      "https://api.coinbase.com:443 \"GET /v2/prices/BTC-USD/buy HTTP/1.1\" 200 None\n",
      "Starting new HTTPS connection (1): api.coinbase.com\n",
      "https://api.coinbase.com:443 \"GET /v2/prices/BTC-USD/sell HTTP/1.1\" 200 83\n",
      "Starting new HTTPS connection (1): api.coinbase.com\n",
      "https://api.coinbase.com:443 \"GET /v2/prices/BTC-USD/spot HTTP/1.1\" 200 83\n",
      "2017-12-25 02:02:03 - Getting all values.\n",
      "Starting new HTTPS connection (1): api.coinbase.com\n",
      "https://api.coinbase.com:443 \"GET /v2/prices/ETH-EUR/buy HTTP/1.1\" 200 80\n",
      "Starting new HTTPS connection (1): api.coinbase.com\n",
      "https://api.coinbase.com:443 \"GET /v2/prices/ETH-EUR/sell HTTP/1.1\" 200 80\n",
      "Starting new HTTPS connection (1): api.coinbase.com\n",
      "https://api.coinbase.com:443 \"GET /v2/prices/ETH-EUR/spot HTTP/1.1\" 200 None\n",
      "2017-12-25 02:02:04 - Getting all values.\n",
      "Starting new HTTPS connection (1): api.coinbase.com\n",
      "https://api.coinbase.com:443 \"GET /v2/prices/ETH-USD/buy HTTP/1.1\" 200 81\n",
      "Starting new HTTPS connection (1): api.coinbase.com\n",
      "https://api.coinbase.com:443 \"GET /v2/prices/ETH-USD/sell HTTP/1.1\" 200 None\n",
      "Starting new HTTPS connection (1): api.coinbase.com\n",
      "https://api.coinbase.com:443 \"GET /v2/prices/ETH-USD/spot HTTP/1.1\" 200 81\n"
     ]
    }
   ],
   "source": [
    "def add_line(logger = None):\n",
    "    for cmy in Cryptomoney:\n",
    "        for ccy in Currency:\n",
    "            ts = get_current_timestamp()\n",
    "            if logger != None:\n",
    "                logger.info(ts + \" - Getting all values.\")\n",
    "            all_values = get_all_values(cmy, ccy)\n",
    "            f = open('data/{}-{}.csv'.format(cmy.name, ccy.name), 'a')\n",
    "            f.write(ts + ', ' + ', '.join([str(all_values[p.name]) for p in Price]) + '\\n')\n",
    "            f.close()\n",
    "\n",
    "if ENV == Environment.TEST:\n",
    "    add_line(LOGGER)"
   ]
  },
  {
   "cell_type": "markdown",
   "metadata": {},
   "source": [
    "# ----- MAIN -----\n",
    "(run every hour)"
   ]
  },
  {
   "cell_type": "code",
   "execution_count": null,
   "metadata": {
    "collapsed": true
   },
   "outputs": [],
   "source": [
    "add_line(LOGGER)"
   ]
  }
 ],
 "metadata": {
  "anaconda-cloud": {},
  "kernelspec": {
   "display_name": "Python (coinbaseapi)",
   "language": "python",
   "name": "coinbaseapi"
  },
  "language_info": {
   "codemirror_mode": {
    "name": "ipython",
    "version": 3
   },
   "file_extension": ".py",
   "mimetype": "text/x-python",
   "name": "python",
   "nbconvert_exporter": "python",
   "pygments_lexer": "ipython3",
   "version": "3.6.2"
  }
 },
 "nbformat": 4,
 "nbformat_minor": 1
}
