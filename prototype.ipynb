{
 "cells": [
  {
   "cell_type": "code",
   "execution_count": 1,
   "metadata": {
    "collapsed": true
   },
   "outputs": [],
   "source": [
    "import requests\n",
    "import json\n",
    "import logging\n",
    "import time, datetime\n",
    "import pandas\n",
    "\n",
    "from enum import Enum"
   ]
  },
  {
   "cell_type": "markdown",
   "metadata": {},
   "source": [
    "## 0) Define Enums and Consts"
   ]
  },
  {
   "cell_type": "code",
   "execution_count": 2,
   "metadata": {
    "collapsed": true
   },
   "outputs": [],
   "source": [
    "Currency = Enum('Currency', 'EUR USD')\n",
    "Cryptomoney = Enum('Cryptomoney', 'BTC ETH')\n",
    "Price = Enum('Price', 'buy sell spot')\n",
    "Environment = Enum('Environment', 'TEST PROD')"
   ]
  },
  {
   "cell_type": "code",
   "execution_count": 3,
   "metadata": {
    "collapsed": true
   },
   "outputs": [],
   "source": [
    "ENV = Environment.TEST"
   ]
  },
  {
   "cell_type": "code",
   "execution_count": 4,
   "metadata": {
    "collapsed": true
   },
   "outputs": [],
   "source": [
    "def create_logger(file = 'activity.log', level = logging.DEBUG):\n",
    "    logger = logging.getLogger()\n",
    "    logger.setLevel(level)\n",
    "    # Define logging format\n",
    "    formatter = logging.Formatter('%(asctime)s :: %(levelname)s :: %(message)s')\n",
    "    # Create the file handler\n",
    "    file_handler = logging.handlers.RotatingFileHandler(file, 'a', 1000000, 1)\n",
    "    file_handler.setLevel(logging.DEBUG)\n",
    "    file_handler.setFormatter(formatter)\n",
    "    logger.addHandler(file_handler)\n",
    "    # Create the stream handler\n",
    "    stream_handler = logging.StreamHandler()\n",
    "    stream_handler.setLevel(logging.DEBUG)\n",
    "    logger.addHandler(stream_handler)\n",
    "    return logger\n",
    "    \n",
    "LOGGER = create_logger()"
   ]
  },
  {
   "cell_type": "code",
   "execution_count": 5,
   "metadata": {},
   "outputs": [],
   "source": [
    "def get_current_timestamp():\n",
    "    return datetime.datetime.fromtimestamp(time.time()).strftime('%Y-%m-%d %H:%M:%S')\n",
    "\n",
    "if ENV == Environment.TEST:\n",
    "    get_current_timestamp()"
   ]
  },
  {
   "cell_type": "markdown",
   "metadata": {},
   "source": [
    "## 1) Get current Cryptomoneys' values "
   ]
  },
  {
   "cell_type": "code",
   "execution_count": 34,
   "metadata": {},
   "outputs": [
    {
     "name": "stderr",
     "output_type": "stream",
     "text": [
      "Erasing and Reinitializing all CSVs\n"
     ]
    }
   ],
   "source": [
    "def initialize_files(logger=None):\n",
    "    if logger != None:\n",
    "        logger.warning(\"Erasing and Reinitializing all CSVs\")\n",
    "    for cmy in [c.name for c in Cryptomoney]:\n",
    "        for ccy in [c.name for c in Currency]:\n",
    "            f = open('data/{}-{}.csv'.format(cmy, ccy), 'w')\n",
    "            f.write('time,' + ','.join([p.name for p in Price]) + '\\n')\n",
    "            f.close()\n",
    "\n",
    "if ENV == Environment.TEST:\n",
    "    initialize_files(LOGGER)"
   ]
  },
  {
   "cell_type": "code",
   "execution_count": 7,
   "metadata": {
    "scrolled": true
   },
   "outputs": [
    {
     "name": "stderr",
     "output_type": "stream",
     "text": [
      "Starting new HTTPS connection (1): api.coinbase.com\n",
      "https://api.coinbase.com:443 \"GET /v2/prices/BTC-EUR/spot HTTP/1.1\" 200 210\n"
     ]
    }
   ],
   "source": [
    "def get_value(cmy = Cryptomoney.BTC, ccy = Currency.EUR, prc = Price.spot):\n",
    "    url = 'https://api.coinbase.com/v2/prices/{}-{}/{}'.format(cmy.name, ccy.name, prc.name)\n",
    "    xhr = requests.get(url)\n",
    "    if xhr.status_code != 200:\n",
    "        raise Exception('XHR status '+str(xhr.status_code)+': '+xhr.reason+' ('+xhr.url+')')\n",
    "    response = xhr.json()\n",
    "    return float(response['data']['amount'])\n",
    "\n",
    "if ENV == Environment.TEST:\n",
    "    get_value()"
   ]
  },
  {
   "cell_type": "code",
   "execution_count": 8,
   "metadata": {},
   "outputs": [
    {
     "name": "stderr",
     "output_type": "stream",
     "text": [
      "Starting new HTTPS connection (1): api.coinbase.com\n",
      "https://api.coinbase.com:443 \"GET /v2/prices/BTC-EUR/buy HTTP/1.1\" 200 None\n",
      "Starting new HTTPS connection (1): api.coinbase.com\n",
      "https://api.coinbase.com:443 \"GET /v2/prices/BTC-EUR/sell HTTP/1.1\" 200 None\n",
      "Starting new HTTPS connection (1): api.coinbase.com\n",
      "https://api.coinbase.com:443 \"GET /v2/prices/BTC-EUR/spot HTTP/1.1\" 200 210\n"
     ]
    }
   ],
   "source": [
    "def get_all_values(cmy = Cryptomoney.BTC, ccy = Currency.EUR):\n",
    "    results = {}\n",
    "    for p in Price:\n",
    "        results[p.name] = get_value(cmy, ccy, p)\n",
    "    return results\n",
    "\n",
    "if ENV == Environment.TEST:\n",
    "    get_all_values()"
   ]
  },
  {
   "cell_type": "code",
   "execution_count": 40,
   "metadata": {},
   "outputs": [
    {
     "name": "stderr",
     "output_type": "stream",
     "text": [
      "2017-12-25 11:02:55 - Getting all values.\n",
      "Starting new HTTPS connection (1): api.coinbase.com\n"
     ]
    },
    {
     "name": "stdout",
     "output_type": "stream",
     "text": [
      "The history saving thread hit an unexpected error (OperationalError('database or disk is full',)).History will not be written to the database.\n"
     ]
    },
    {
     "name": "stderr",
     "output_type": "stream",
     "text": [
      "https://api.coinbase.com:443 \"GET /v2/prices/BTC-EUR/buy HTTP/1.1\" 200 210\n",
      "Starting new HTTPS connection (1): api.coinbase.com\n",
      "https://api.coinbase.com:443 \"GET /v2/prices/BTC-EUR/sell HTTP/1.1\" 200 210\n",
      "Starting new HTTPS connection (1): api.coinbase.com\n",
      "https://api.coinbase.com:443 \"GET /v2/prices/BTC-EUR/spot HTTP/1.1\" 200 83\n",
      "2017-12-25 11:02:56 - Getting all values.\n",
      "Starting new HTTPS connection (1): api.coinbase.com\n",
      "https://api.coinbase.com:443 \"GET /v2/prices/BTC-USD/buy HTTP/1.1\" 200 None\n",
      "Starting new HTTPS connection (1): api.coinbase.com\n",
      "https://api.coinbase.com:443 \"GET /v2/prices/BTC-USD/sell HTTP/1.1\" 200 81\n",
      "Starting new HTTPS connection (1): api.coinbase.com\n",
      "https://api.coinbase.com:443 \"GET /v2/prices/BTC-USD/spot HTTP/1.1\" 200 83\n",
      "2017-12-25 11:02:57 - Getting all values.\n",
      "Starting new HTTPS connection (1): api.coinbase.com\n",
      "https://api.coinbase.com:443 \"GET /v2/prices/ETH-EUR/buy HTTP/1.1\" 200 207\n",
      "Starting new HTTPS connection (1): api.coinbase.com\n",
      "https://api.coinbase.com:443 \"GET /v2/prices/ETH-EUR/sell HTTP/1.1\" 200 None\n",
      "Starting new HTTPS connection (1): api.coinbase.com\n",
      "https://api.coinbase.com:443 \"GET /v2/prices/ETH-EUR/spot HTTP/1.1\" 200 207\n",
      "2017-12-25 11:02:57 - Getting all values.\n",
      "Starting new HTTPS connection (1): api.coinbase.com\n",
      "https://api.coinbase.com:443 \"GET /v2/prices/ETH-USD/buy HTTP/1.1\" 200 207\n",
      "Starting new HTTPS connection (1): api.coinbase.com\n",
      "https://api.coinbase.com:443 \"GET /v2/prices/ETH-USD/sell HTTP/1.1\" 200 None\n",
      "Starting new HTTPS connection (1): api.coinbase.com\n",
      "https://api.coinbase.com:443 \"GET /v2/prices/ETH-USD/spot HTTP/1.1\" 200 None\n"
     ]
    }
   ],
   "source": [
    "def add_line(logger = None):\n",
    "    for cmy in Cryptomoney:\n",
    "        for ccy in Currency:\n",
    "            ts = get_current_timestamp()\n",
    "            if logger != None:\n",
    "                logger.info(ts + \" - Getting all values.\")\n",
    "            all_values = get_all_values(cmy, ccy)\n",
    "            f = open('data/{}-{}.csv'.format(cmy.name, ccy.name), 'a')\n",
    "            f.write(ts + ',' + ','.join([str(all_values[p.name]) for p in Price]) + '\\n')\n",
    "            f.close()\n",
    "\n",
    "if ENV == Environment.TEST:\n",
    "    add_line(LOGGER)"
   ]
  },
  {
   "cell_type": "markdown",
   "metadata": {},
   "source": [
    "## 2) Analyze collected data\n",
    "*(using the boelinger bands)*"
   ]
  },
  {
   "cell_type": "code",
   "execution_count": 88,
   "metadata": {},
   "outputs": [],
   "source": [
    "def analyze_file(cmy = Cryptomoney.BTC, ccy = Currency.EUR):\n",
    "    data = pandas.read_csv(\"data/{}-{}.csv\".format(cmy.name, ccy.name), index_col=0)\n",
    "    if data.index.size < 5:\n",
    "        return 0\n",
    "    rmean = data[\"spot\"].rolling(5).mean()[-1]\n",
    "    rstd = data[\"spot\"].rolling(5).std()[-1]\n",
    "    if data[\"buy\"][-1] < rmean - 2 * rstd:\n",
    "        return 1\n",
    "    elif data[\"sell\"][-1] > rmean + 2 * rstd:\n",
    "        return -1\n",
    "    return 0\n",
    "\n",
    "if ENV == Environment.TEST:\n",
    "    analyze_file()"
   ]
  },
  {
   "cell_type": "code",
   "execution_count": 66,
   "metadata": {},
   "outputs": [],
   "source": [
    "def analyze_data(ccy = Currency.EUR, logger = None):\n",
    "    if logger != None:\n",
    "        logger.info(\"Beginning analyze\")\n",
    "    results = {}\n",
    "    for cmy in Cryptomoney:\n",
    "        action = analyze_file(cmy, ccy)\n",
    "        results[cmy.name] = action\n",
    "        # Log every action to take\n",
    "        if action == 1 and logger != None:\n",
    "            logger.info(\"Action to take: BUY {}\".format(cmy.name))\n",
    "        if action == -1 and logger != None:\n",
    "            logger.info(\"Action to take: SELL {}\".format(cmy.name))\n",
    "    return results\n",
    "\n",
    "if ENV == Environment.TEST:\n",
    "    analyze_data()"
   ]
  },
  {
   "cell_type": "markdown",
   "metadata": {},
   "source": [
    "## 3) Simulate performance"
   ]
  },
  {
   "cell_type": "code",
   "execution_count": 69,
   "metadata": {},
   "outputs": [
    {
     "name": "stderr",
     "output_type": "stream",
     "text": [
      "Erasing and Reinitializing simulation\n",
      "Starting new HTTPS connection (1): api.coinbase.com\n",
      "https://api.coinbase.com:443 \"GET /v2/prices/BTC-EUR/spot HTTP/1.1\" 200 209\n",
      "Starting new HTTPS connection (1): api.coinbase.com\n",
      "https://api.coinbase.com:443 \"GET /v2/prices/ETH-EUR/spot HTTP/1.1\" 200 207\n"
     ]
    }
   ],
   "source": [
    "def initialize_simulation(ccy = Currency.EUR, logger = None):\n",
    "    if logger != None:\n",
    "        logger.warning(\"Erasing and Reinitializing simulation\")\n",
    "    wallet = json.dumps({\n",
    "        'value':1000,\n",
    "        'currency':ccy.name,\n",
    "        'last_actions': dict((c.name, 0) for c in Cryptomoney),\n",
    "        'last_prices': dict((c.name, get_value(c, ccy)) for c in Cryptomoney)\n",
    "    })\n",
    "    f = open('simulation.json', 'w')\n",
    "    f.write(wallet)\n",
    "    f.close()\n",
    "\n",
    "if ENV == Environment.TEST:\n",
    "    initialize_simulation(logger = LOGGER)"
   ]
  },
  {
   "cell_type": "code",
   "execution_count": 93,
   "metadata": {},
   "outputs": [
    {
     "name": "stderr",
     "output_type": "stream",
     "text": [
      "Beginning analyze\n",
      "Beginning simulation\n"
     ]
    }
   ],
   "source": [
    "def simulate(analyze_results, ccy = Currency.EUR, logger = None):\n",
    "    if logger != None:\n",
    "        logger.info(\"Beginning simulation\")\n",
    "    wallet = json.load(open('simulation.json'))\n",
    "    if logger != None and wallet[\"currency\"] != ccy.name:\n",
    "        logger.error(\"Currencies in simulation don't match\")\n",
    "        \n",
    "    # Part 1 - Close previous actions\n",
    "    for c in Cryptomoney:\n",
    "        if wallet['last_actions'][c.name] == 1: # Close BUY action\n",
    "            oldv = wallet['last_prices'][c.name]\n",
    "            newv = get_value(c, ccy, Price.sell)\n",
    "            res = 100 * newv / oldv\n",
    "            wallet[\"value\"] += res\n",
    "            if logger != None:\n",
    "                logger.info(\"Closing BUY deal: {} (old: {}, new: {})\".format(res-100, oldv, newv))\n",
    "        elif wallet['last_actions'][c.name] == -1: # Close SELL action\n",
    "            oldv = wallet['last_prices'][c.name]\n",
    "            newv = get_value(c, ccy, Price.buy)\n",
    "            res = 100 * newv / oldv\n",
    "            wallet[\"value\"] -= res\n",
    "            if logger != None:\n",
    "                logger.info(\"Closing SELL deal: {} (old: {}, new: {})\".format(100-res, oldv, newv))\n",
    "                \n",
    "    # Part 2 - Take new actions\n",
    "    \n",
    "    for c in Cryptomoney:\n",
    "        if analyze_results[c.name] == 1: # Take BUY action\n",
    "            wallet[\"value\"] -= 100\n",
    "            wallet[\"last_actions\"][c.name] = 1\n",
    "            wallet[\"last_prices\"][c.name] = get_value(c, ccy, Price.buy)\n",
    "        elif analyze_results[c.name] == -1: # Take SELL action\n",
    "            wallet[\"value\"] += 100\n",
    "            wallet[\"last_actions\"][c.name] = -1\n",
    "            wallet[\"last_prices\"][c.name] = get_value(c, ccy, Price.sell)\n",
    "        else:\n",
    "            wallet[\"last_actions\"][c.name] = 0\n",
    "    f = open('simulation.json', 'w')\n",
    "    f.write(json.dumps(wallet))\n",
    "    f.close()\n",
    "\n",
    "if ENV == Environment.TEST:  \n",
    "    simulate(analyze_data(logger = LOGGER), logger=LOGGER)"
   ]
  },
  {
   "cell_type": "markdown",
   "metadata": {},
   "source": [
    "## 4) Send Alerts"
   ]
  },
  {
   "cell_type": "markdown",
   "metadata": {},
   "source": [
    "## 5) Whole Process\n",
    "*(run every hour)*"
   ]
  },
  {
   "cell_type": "code",
   "execution_count": 95,
   "metadata": {},
   "outputs": [
    {
     "name": "stderr",
     "output_type": "stream",
     "text": [
      "2017-12-25 12:19:58 - Getting all values.\n",
      "Starting new HTTPS connection (1): api.coinbase.com\n",
      "https://api.coinbase.com:443 \"GET /v2/prices/BTC-EUR/buy HTTP/1.1\" 200 83\n",
      "Starting new HTTPS connection (1): api.coinbase.com\n",
      "https://api.coinbase.com:443 \"GET /v2/prices/BTC-EUR/sell HTTP/1.1\" 200 210\n",
      "Starting new HTTPS connection (1): api.coinbase.com\n",
      "https://api.coinbase.com:443 \"GET /v2/prices/BTC-EUR/spot HTTP/1.1\" 200 None\n",
      "2017-12-25 12:19:58 - Getting all values.\n",
      "Starting new HTTPS connection (1): api.coinbase.com\n",
      "https://api.coinbase.com:443 \"GET /v2/prices/BTC-USD/buy HTTP/1.1\" 200 None\n",
      "Starting new HTTPS connection (1): api.coinbase.com\n",
      "https://api.coinbase.com:443 \"GET /v2/prices/BTC-USD/sell HTTP/1.1\" 200 209\n",
      "Starting new HTTPS connection (1): api.coinbase.com\n",
      "https://api.coinbase.com:443 \"GET /v2/prices/BTC-USD/spot HTTP/1.1\" 200 83\n",
      "2017-12-25 12:19:59 - Getting all values.\n",
      "Starting new HTTPS connection (1): api.coinbase.com\n",
      "https://api.coinbase.com:443 \"GET /v2/prices/ETH-EUR/buy HTTP/1.1\" 200 None\n",
      "Starting new HTTPS connection (1): api.coinbase.com\n",
      "https://api.coinbase.com:443 \"GET /v2/prices/ETH-EUR/sell HTTP/1.1\" 200 207\n",
      "Starting new HTTPS connection (1): api.coinbase.com\n",
      "https://api.coinbase.com:443 \"GET /v2/prices/ETH-EUR/spot HTTP/1.1\" 200 None\n",
      "2017-12-25 12:19:59 - Getting all values.\n",
      "Starting new HTTPS connection (1): api.coinbase.com\n",
      "https://api.coinbase.com:443 \"GET /v2/prices/ETH-USD/buy HTTP/1.1\" 200 207\n",
      "Starting new HTTPS connection (1): api.coinbase.com\n",
      "https://api.coinbase.com:443 \"GET /v2/prices/ETH-USD/sell HTTP/1.1\" 200 208\n",
      "Starting new HTTPS connection (1): api.coinbase.com\n",
      "https://api.coinbase.com:443 \"GET /v2/prices/ETH-USD/spot HTTP/1.1\" 200 81\n",
      "Beginning analyze\n",
      "Beginning simulation\n"
     ]
    }
   ],
   "source": [
    "add_line(logger=LOGGER)\n",
    "analyze_results = analyze_data(logger=LOGGER)\n",
    "simulate(analyze_results, logger=LOGGER)"
   ]
  }
 ],
 "metadata": {
  "anaconda-cloud": {},
  "kernelspec": {
   "display_name": "Python (coinbaseapi)",
   "language": "python",
   "name": "coinbaseapi"
  },
  "language_info": {
   "codemirror_mode": {
    "name": "ipython",
    "version": 3
   },
   "file_extension": ".py",
   "mimetype": "text/x-python",
   "name": "python",
   "nbconvert_exporter": "python",
   "pygments_lexer": "ipython3",
   "version": "3.6.2"
  }
 },
 "nbformat": 4,
 "nbformat_minor": 1
}
