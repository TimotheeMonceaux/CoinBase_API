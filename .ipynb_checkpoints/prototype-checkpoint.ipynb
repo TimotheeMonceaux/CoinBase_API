{
 "cells": [
  {
   "cell_type": "code",
   "execution_count": 13,
   "metadata": {},
   "outputs": [],
   "source": [
    "import requests\n",
    "import json\n",
    "\n",
    "from enum import Enum"
   ]
  },
  {
   "cell_type": "code",
   "execution_count": 23,
   "metadata": {},
   "outputs": [],
   "source": [
    "Currency = Enum('Currency', 'EUR USD')\n",
    "Cryptomoney = Enum('Cryptomoney', 'BTC ETH')"
   ]
  },
  {
   "cell_type": "code",
   "execution_count": 65,
   "metadata": {},
   "outputs": [],
   "source": [
    "def load_prices(ccy = Currency.EUR, cmy = Cryptomoney.BTC):\n",
    "    url = 'https://api.coinbase.com/v2/prices/{}-{}/spot'.format(cmy.name, ccy.name)\n",
    "    headers = {'CB-VERSION':'2017-12-23'}\n",
    "    xhr = requests.get(url, headers=headers)\n",
    "    if xhr.status_code != 200:\n",
    "        raise Exception('Error '+prices.status_code+': '+prices.reason)\n",
    "    res = xhr.json()\n",
    "    return float(response['data']['amount'])\n",
    "\n",
    "load_prices()"
   ]
  },
  {
   "cell_type": "code",
   "execution_count": 64,
   "metadata": {
    "scrolled": true
   },
   "outputs": [
    {
     "data": {
      "text/plain": [
       "12054.03"
      ]
     },
     "execution_count": 64,
     "metadata": {},
     "output_type": "execute_result"
    }
   ],
   "source": []
  },
  {
   "cell_type": "code",
   "execution_count": 66,
   "metadata": {},
   "outputs": [
    {
     "name": "stdout",
     "output_type": "stream",
     "text": [
      "data {'base': 'BTC', 'currency': 'EUR', 'amount': '11937.43'}\n"
     ]
    }
   ],
   "source": [
    "for i in prices:\n",
    "    print(i, prices[i])"
   ]
  }
 ],
 "metadata": {
  "anaconda-cloud": {},
  "kernelspec": {
   "display_name": "Python (coinbaseapi)",
   "language": "python",
   "name": "coinbaseapi"
  },
  "language_info": {
   "codemirror_mode": {
    "name": "ipython",
    "version": 3
   },
   "file_extension": ".py",
   "mimetype": "text/x-python",
   "name": "python",
   "nbconvert_exporter": "python",
   "pygments_lexer": "ipython3",
   "version": "3.6.2"
  }
 },
 "nbformat": 4,
 "nbformat_minor": 1
}
